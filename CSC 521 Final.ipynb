{
 "cells": [
  {
   "cell_type": "code",
   "execution_count": 1,
   "metadata": {},
   "outputs": [],
   "source": [
    "import csv\n",
    "import math\n",
    "from nlib import *\n",
    "import random\n",
    "from math import exp, log\n",
    "import datetime"
   ]
  },
  {
   "cell_type": "code",
   "execution_count": 2,
   "metadata": {},
   "outputs": [
    {
     "data": {
      "text/plain": [
       "'C:\\\\Users\\\\guy.dor\\\\Documents\\\\CSC 521'"
      ]
     },
     "execution_count": 2,
     "metadata": {},
     "output_type": "execute_result"
    }
   ],
   "source": [
    "import os\n",
    "os.getcwd()"
   ]
  },
  {
   "cell_type": "code",
   "execution_count": 3,
   "metadata": {},
   "outputs": [
    {
     "name": "stdout",
     "output_type": "stream",
     "text": [
      "B 1462 4 3626.0 8.19588539131\n",
      "A 1455 4 11561.0 9.35539264368\n",
      "A 1453 4 34881.0 10.4596975473\n",
      "B 1452 4 1718.0 7.44891610254\n",
      "B 1449 4 1904.0 7.55171221535\n",
      "A 1443 4 9923.0 9.20261057391\n",
      "B 1441 4 1218.0 7.10496544827\n",
      "A 1440 4 4400.0 8.38935981991\n",
      "A 1430 4 2767.0 7.92551897979\n",
      "B 1429 4 519.0 6.25190388317\n",
      "A 1427 4 25173.0 10.1335272705\n",
      "B 1421 4 419.0 6.03787091992\n",
      "A 1420 4 3084.0 8.03398273468\n",
      "B 1409 4 14380.0 9.57359363128\n",
      "A 1404 4 13772.0 9.53039282446\n",
      "A 1384 4 17286.0 9.75765220431\n",
      "B 1378 4 6261.0 8.74209519575\n",
      "B 1375 4 416.0 6.03068526026\n",
      "A 1354 4 7044.0 8.85993146962\n",
      "A 1352 4 12394.0 9.42496776352\n",
      "B 1349 4 2075.0 7.63771643266\n",
      "B 1345 4 2278.0 7.73105314401\n",
      "A 1341 4 7443.0 8.91502927236\n",
      "B 1333 4 8861.0 9.08941490405\n",
      "A 1328 4 44206.0 10.6966158055\n",
      "B 1323 4 3715.0 8.22013395715\n",
      "B 1316 4 109.0 4.69134788223\n",
      "A 1314 4 16972.0 9.73932020632\n",
      "B 1294 4 1414.0 7.25417784646\n",
      "B 1290 4 688.0 6.53378883793\n",
      "B 1287 4 299.0 5.70044357339\n",
      "B 1269 4 226.0 5.42053499927\n",
      "A 1265 4 272851.0 12.5166811376\n",
      "B 1258 4 2432.0 7.79646924309\n",
      "A 1247 4 3639.0 8.19946419761\n",
      "B 1245 4 1117.0 7.01840179907\n",
      "A 1243 4 3122.0 8.04622910108\n",
      "A 1237 4 91992.0 11.4294568957\n",
      "A 1236 4 4807.0 8.47782846789\n",
      "B 1226 4 841.0 6.73459165997\n",
      "B 1222 4 7936.0 8.97916464896\n",
      "B 1213 4 2400.0 7.78322401634\n",
      "A 1208 4 8902.0 9.09403124958\n",
      "B 1207 4 937.0 6.84268328224\n",
      "B 1205 4 278.0 5.62762111369\n",
      "B 1195 4 248.0 5.51342874616\n",
      "A 1192 4 15864.0 9.6718076702\n",
      "A 1190 4 9463.0 9.15514473651\n",
      "A 1188 4 5248.0 8.56560233062\n",
      "A 1185 4 5780.0 8.66215896167\n",
      "B 1173 4 379.0 5.93753620508\n",
      "A 1169 4 15494.0 9.64820813119\n",
      "B 1167 4 1432.0 7.26682734752\n",
      "B 1161 4 845.0 6.73933662736\n",
      "A 1159 4 10335.0 9.24329147212\n",
      "A 1146 4 9000.0 9.10497985632\n",
      "A 1140 4 3937.0 8.27817429094\n",
      "A 1140 4 4437.0 8.39773375138\n",
      "A 1136 4 814.0 6.701960366\n",
      "B 1122 4 1332.0 7.1944368511\n",
      "B 1119 4 2378.0 7.77401507725\n",
      "B 1113 4 110.0 4.70048036579\n",
      "B 1110 4 2247.0 7.71735127219\n",
      "A 1106 4 14878.0 9.60763889075\n",
      "B 1104 4 533.0 6.27852142417\n",
      "A 1099 4 58736.0 10.9808081057\n",
      "B 1097 4 335.0 5.81413053183\n",
      "A 1092 3 13430.0 9.50524628952\n",
      "B 1090 3 550.0 6.30991827823\n",
      "A 1079 3 47109.0 10.7602193446\n",
      "B 1077 3 761.0 6.63463335786\n",
      "B 1070 3 6948.0 8.84620912736\n",
      "B 1044 3 1898.0 7.54855597917\n",
      "B 1039 3 2655.0 7.88419993368\n",
      "A 1039 3 35066.0 10.464987279\n",
      "B 1038 3 1876.0 7.53689712957\n",
      "A 1019 3 9901.0 9.20039104112\n",
      "B 1017 3 221.0 5.39816270152\n",
      "B 1015 3 996.0 6.90374725758\n",
      "A 1004 3 11453.0 9.3460069834\n",
      "B 1002 3 1751.0 7.46794233229\n",
      "B 1000 3 2357.0 7.76514490294\n",
      "A 997 3 4150.0 8.33086361322\n",
      "B 993 3 4969.0 8.5109738916\n",
      "A 992 3 2060.0 7.63046126178\n",
      "B 986 3 1083.0 6.987490247\n",
      "A 982 3 48217.0 10.783466935\n",
      "A 980 3 5936.0 8.68879078485\n",
      "A 975 3 4077.0 8.31311670282\n",
      "A 970 3 8073.0 8.9962804394\n",
      "A 964 3 7741.0 8.9542861572\n",
      "A 959 3 3837.0 8.25244609025\n",
      "A 953 3 2591.0 7.85979918056\n",
      "A 950 3 7481.0 8.92012175187\n",
      "B 945 3 1072.0 6.97728134163\n",
      "B 928 3 702.0 6.55393340403\n",
      "A 928 3 8002.0 8.98744678942\n",
      "A 923 3 6265.0 8.74273386733\n",
      "A 917 3 1003.0 6.91075078796\n",
      "B 911 3 3955.0 8.2827358802\n",
      "B 909 3 1407.0 7.24921505711\n",
      "B 903 3 1456.0 7.28344822876\n",
      "B 898 3 1124.0 7.02464903045\n",
      "B 897 3 325.0 5.78382518233\n",
      "A 896 3 5774.0 8.66112036022\n",
      "A 884 3 1963.0 7.58222919428\n",
      "B 882 3 1197.0 7.08757370556\n",
      "B 881 3 1022.0 6.92951677076\n",
      "A 881 3 2924.0 7.98070782087\n",
      "A 881 3 22671.0 10.0288418537\n",
      "A 880 3 25059.0 10.1289883234\n",
      "B 873 3 2551.0 7.84424071814\n",
      "B 872 3 1570.0 7.35883089834\n",
      "A 871 3 6562.0 8.78905071352\n",
      "B 854 3 2537.0 7.8387375596\n",
      "A 851 3 4842.0 8.4850831375\n",
      "A 837 3 10258.0 9.23581316795\n",
      "B 836 3 315.0 5.75257263883\n",
      "B 835 3 226.0 5.42053499927\n",
      "A 833 3 72276.0 11.1882474028\n",
      "B 832 3 215.0 5.37063802813\n",
      "A 830 3 6615.0 8.79709507655\n",
      "A 829 3 9513.0 9.16041456321\n",
      "A 825 3 25050.0 10.1286291065\n",
      "B 824 3 1126.0 7.0264268087\n",
      "A 820 3 23102.0 10.0476744728\n",
      "B 813 3 225.0 5.4161004022\n",
      "A 809 3 8319.0 9.02629733428\n",
      "A 807 3 11511.0 9.35105837892\n",
      "B 801 3 8966.0 9.10119492472\n",
      "B 791 3 2056.0 7.62851762658\n",
      "B 791 3 10993.0 9.30501398558\n",
      "B 785 3 559.0 6.32614947316\n",
      "B 784 3 2082.0 7.64108424917\n",
      "A 783 3 16495.0 9.71081258366\n",
      "B 778 3 4910.0 8.49902922079\n",
      "B 777 3 6728.0 8.81403320165\n",
      "B 766 3 168.0 5.1239639794\n",
      "A 764 3 35484.0 10.4768371696\n",
      "B 753 3 565.0 6.33682573115\n",
      "B 738 3 3186.0 8.06652149047\n",
      "B 736 3 2224.0 7.70706265537\n",
      "A 731 3 10365.0 9.24619002487\n",
      "A 716 2 7482.0 8.92025541491\n",
      "A 707 2 2496.0 7.82244472949\n",
      "B 706 2 46.0 3.82864139649\n",
      "A 697 2 8102.0 8.99986622376\n",
      "B 686 2 1499.0 7.3125534981\n",
      "B 683 2 4703.0 8.45595588195\n",
      "A 679 2 47704.0 10.7727705308\n",
      "B 668 2 1605.0 7.38087903556\n",
      "A 663 2 10516.0 9.26065318585\n",
      "B 658 2 1490.0 7.30653139894\n",
      "A 652 2 20053.0 9.90613404748\n",
      "B 643 2 3283.0 8.0965129175\n",
      "B 641 2 1622.0 7.39141523468\n",
      "A 625 2 8307.0 9.02485381184\n",
      "B 625 2 542.0 6.29526600144\n",
      "A 623 2 29541.0 10.2935344079\n",
      "B 616 2 1366.0 7.21964204013\n",
      "B 610 2 425.0 6.05208916892\n",
      "A 607 2 8508.0 9.04876217632\n",
      "B 607 2 661.0 6.49375383985\n",
      "A 589 2 2058.0 7.62948991639\n",
      "B 568 2 677.0 6.51767127291\n",
      "B 561 2 1457.0 7.2841348062\n",
      "A 561 2 13977.0 9.54516840048\n",
      "B 560 2 814.0 6.701960366\n",
      "A 556 2 8861.0 9.08941490405\n",
      "B 556 2 12792.0 9.45657525451\n",
      "A 552 2 12241.0 9.41254625208\n",
      "B 542 2 1170.0 7.06475902779\n",
      "B 538 2 6452.0 8.77214543925\n",
      "A 536 2 5854.0 8.67488046725\n",
      "B 534 2 421.0 6.04263283368\n",
      "A 529 2 20331.0 9.9199020938\n",
      "A 520 2 3452.0 8.1467090522\n",
      "B 517 2 1082.0 6.98656645941\n",
      "B 515 2 2276.0 7.73017479525\n",
      "B 513 2 1036.0 6.94312242282\n",
      "B 507 2 1511.0 7.32052696227\n",
      "A 506 2 1599.0 7.37713371283\n",
      "B 498 2 241.0 5.48479693349\n",
      "A 488 2 19809.0 9.89389165886\n",
      "B 485 2 958.0 6.86484777797\n",
      "A 476 2 5403.0 8.59470963384\n",
      "A 475 2 1709.0 7.44366368312\n",
      "B 448 2 1915.0 7.55747290161\n",
      "B 446 2 883.0 6.7833252006\n",
      "A 434 2 16436.0 9.70722933\n",
      "B 433 2 2022.0 7.61184239958\n",
      "B 425 2 987.0 6.89467003943\n",
      "A 414 2 4645.0 8.44354665125\n",
      "A 407 2 4578.0 8.42901750051\n",
      "B 402 2 257.0 5.5490760849\n",
      "B 398 2 1018.0 6.92559519711\n",
      "A 395 2 17171.0 9.75097719331\n",
      "A 395 2 17001.0 9.74102744484\n",
      "A 393 2 43508.0 10.6807001082\n",
      "B 388 2 1915.0 7.55747290161\n",
      "A 388 2 49673.0 10.8132168049\n",
      "B 386 2 490.0 6.1944053911\n",
      "A 375 2 4419.0 8.39366870513\n",
      "A 372 2 3513.0 8.16422565227\n",
      "A 370 2 10507.0 9.25979698069\n",
      "B 367 2 2229.0 7.70930833339\n",
      "B 367 2 616.0 6.42324696353\n",
      "A 363 1 14317.0 9.56920292136\n",
      "A 360 1 5365.0 8.58765165506\n",
      "B 357 1 937.0 6.84268328224\n",
      "A 348 1 7542.0 8.92824267782\n",
      "A 342 1 12729.0 9.45163813387\n",
      "B 340 1 31769.0 10.3662462505\n",
      "B 337 1 100.0 4.60517018599\n",
      "B 331 1 2886.0 7.96762673933\n",
      "B 330 1 1431.0 7.26612877956\n",
      "B 329 1 2207.0 7.69938940626\n",
      "B 327 1 92.0 4.52178857705\n",
      "B 327 1 399.0 5.98896141689\n",
      "B 325 1 934.0 6.83947643823\n",
      "B 325 1 841.0 6.73459165997\n",
      "B 314 1 782.0 6.66185474055\n",
      "A 312 1 8293.0 9.02316706445\n",
      "A 312 1 906.0 6.80903930604\n",
      "A 309 1 3415.0 8.135932772\n",
      "B 307 1 3258.0 8.08886878916\n",
      "B 297 1 120.0 4.78749174278\n",
      "B 276 1 601.0 6.39859493454\n",
      "A 266 1 18718.0 9.83724090672\n",
      "A 258 1 5223.0 8.56082722844\n",
      "B 257 1 1988.0 7.59488438722\n",
      "B 253 1 1998.0 7.59990195921\n",
      "A 252 1 10743.0 9.28200965867\n",
      "A 240 1 27426.0 10.2192467476\n",
      "B 239 1 928.0 6.83303173279\n",
      "B 230 1 303.0 5.71373280551\n",
      "A 222 1 57686.0 10.9627697887\n",
      "A 217 1 3059.0 8.02584334415\n",
      "B 213 1 8573.0 9.05637300868\n",
      "B 207 1 439.0 6.08449941308\n",
      "B 204 1 563.0 6.33327962814\n",
      "A 202 1 4896.0 8.49617382419\n",
      "A 200 1 5619.0 8.63390899111\n",
      "A 190 1 12996.0 9.47239689679\n",
      "B 190 1 197.0 5.28320372874\n",
      "B 190 1 142.0 4.9558270576\n",
      "A 188 1 7833.0 8.96610085737\n",
      "A 188 1 26323.0 10.1781983607\n",
      "B 184 1 3001.0 8.00670084544\n",
      "A 182 1 490.0 6.1944053911\n",
      "A 174 1 5519.0 8.61595196344\n",
      "A 173 1 964.0 6.87109129461\n",
      "B 169 1 1561.0 7.35308192052\n",
      "B 162 1 457.0 6.12468339089\n",
      "A 161 1 11923.0 9.38622458681\n",
      "A 157 1 3383.0 8.12651816878\n",
      "A 157 1 29109.0 10.2788026837\n",
      "A 156 1 4983.0 8.51378739828\n",
      "B 146 1 994.0 6.90173720666\n",
      "B 135 1 493.0 6.20050917404\n",
      "B 128 1 2167.0 7.68109900154\n",
      "B 119 1 747.0 6.61606518513\n",
      "B 108 1 987.0 6.89467003943\n",
      "A 106 1 6106.0 8.71702717329\n",
      "B 105 1 972.0 6.87935580446\n",
      "A 102 1 5278.0 8.57130251706\n",
      "A 100 1 132310.0 11.792902933\n",
      "B 94 1 311.0 5.73979291218\n",
      "B 91 1 144.0 4.96981329958\n",
      "A 88 1 31897.0 10.3702672405\n",
      "A 83 1 114947.0 11.6522264315\n",
      "A 81 1 8539.0 9.05239918391\n",
      "B 74 1 1175.0 7.06902342658\n",
      "B 64 1 318.0 5.76205138278\n",
      "A 61 1 8058.0 8.99442066575\n",
      "B 60 1 209.0 5.34233425196\n",
      "B 59 1 1206.0 7.09506437729\n",
      "B 58 1 995.0 6.90274273716\n",
      "A 51 1 10702.0 9.27818591887\n",
      "B 49 1 3424.0 8.13856473726\n",
      "B 47 1 902.0 6.80461452006\n",
      "B 43 1 2815.0 7.94271754057\n",
      "B 39 1 1982.0 7.59186171489\n",
      "B 38 1 481.0 6.17586727011\n",
      "B 36 1 2428.0 7.79482315218\n",
      "A 31 1 18997.0 9.85203635095\n",
      "A 30 1 38549.0 10.5596854383\n",
      "A 13 1 5446.0 8.60263667323\n",
      "B 7 1 250.0 5.52146091786\n",
      "B 4 1 181.0 5.19849703127\n",
      "A 1 1 3348.0 8.11611843161\n"
     ]
    }
   ],
   "source": [
    "filename = 'accidents.csv'\n",
    "history = []\n",
    "log_loss = []\n",
    "Ahist=[]\n",
    "Bhist=[]\n",
    "Aplant=[]\n",
    "Aday=[]\n",
    "Ayear=[]\n",
    "Aloss=[]\n",
    "Alog_loss=[]\n",
    "Bplant=[]\n",
    "Bday=[]\n",
    "Byear=[]\n",
    "Bloss=[]\n",
    "Blog_loss=[]\n",
    "\n",
    "with open(filename) as myfile:\n",
    "    reader = csv.reader(myfile)\n",
    "    header = ['Plant','Day','Loss']\n",
    "    rows = [dict(zip(header,row)) for row in reader]\n",
    "    rows.reverse()\n",
    "    for k,row in enumerate(rows):\n",
    "        plant = row['Plant']\n",
    "        day = int(row['Day'])      \n",
    "        loss = float(row['Loss'])\n",
    "        log_loss = math.log(loss)\n",
    "        if 0<day<=365:\n",
    "            year=1\n",
    "        elif 366<day<=730:\n",
    "            year=2\n",
    "        elif 730<day<=1095:\n",
    "            year=3\n",
    "        elif day>1095:\n",
    "            year=4\n",
    "        \n",
    "        history.append([plant, day, year, loss, log_loss])\n",
    "        if plant=='A':\n",
    "            Ahist.append([plant, day, loss, log_loss])\n",
    "            Aplant.append(plant)\n",
    "            Aday.append(day)\n",
    "            Ayear.append(year)\n",
    "            Aloss.append(loss)\n",
    "            Alog_loss.append(log_loss)\n",
    "        else: \n",
    "            Bhist.append([plant, day, loss, log_loss])\n",
    "            Bplant.append(plant)\n",
    "            Bday.append(day)\n",
    "            Byear.append(year)\n",
    "            Bloss.append(loss)\n",
    "            Blog_loss.append(log_loss)\n",
    "            \n",
    "            \n",
    "        print plant, day, year, loss, log_loss\n",
    "    "
   ]
  },
  {
   "cell_type": "code",
   "execution_count": 4,
   "metadata": {},
   "outputs": [
    {
     "data": {
      "text/plain": [
       "33"
      ]
     },
     "execution_count": 4,
     "metadata": {},
     "output_type": "execute_result"
    }
   ],
   "source": [
    "#Average number of acidents/year in plant A\n",
    "def accidents_in_year(n,plant):\n",
    "    accidents=0\n",
    "    for i in plant:\n",
    "        if i==n:\n",
    "            accidents+=1\n",
    "    return accidents\n",
    "(accidents_in_year(1, Ayear)\n",
    "+accidents_in_year(2, Ayear)\n",
    "+accidents_in_year(3, Ayear)\n",
    "+accidents_in_year(4, Ayear))/4\n",
    "\n"
   ]
  },
  {
   "cell_type": "code",
   "execution_count": 5,
   "metadata": {},
   "outputs": [
    {
     "data": {
      "text/plain": [
       "39"
      ]
     },
     "execution_count": 5,
     "metadata": {},
     "output_type": "execute_result"
    }
   ],
   "source": [
    "#Average number of acidents/year in plant B\n",
    "(accidents_in_year(1, Byear)\n",
    "+accidents_in_year(2, Byear)\n",
    "+accidents_in_year(3, Byear)\n",
    "+accidents_in_year(4, Byear))/4"
   ]
  },
  {
   "cell_type": "code",
   "execution_count": 6,
   "metadata": {},
   "outputs": [
    {
     "data": {
      "text/plain": [
       "17470.155555555557"
      ]
     },
     "execution_count": 6,
     "metadata": {},
     "output_type": "execute_result"
    }
   ],
   "source": [
    "#Average loss per accident in plant A\n",
    "\n",
    "def Expected(val):\n",
    "    r=float(sum(val))/len(val)\n",
    "    return r\n",
    "Expected(Aloss)"
   ]
  },
  {
   "cell_type": "code",
   "execution_count": 7,
   "metadata": {},
   "outputs": [
    {
     "data": {
      "text/plain": [
       "2022.9615384615386"
      ]
     },
     "execution_count": 7,
     "metadata": {},
     "output_type": "execute_result"
    }
   ],
   "source": [
    "#Average loss per accident in plant B\n",
    "Expected(Bloss)\n"
   ]
  },
  {
   "cell_type": "code",
   "execution_count": 8,
   "metadata": {},
   "outputs": [
    {
     "data": {
      "text/plain": [
       "589617.75"
      ]
     },
     "execution_count": 8,
     "metadata": {},
     "output_type": "execute_result"
    }
   ],
   "source": [
    "#Average Total loss per year in plant A\n",
    "Expected(Aloss)*len(Ahist)/4\n"
   ]
  },
  {
   "cell_type": "code",
   "execution_count": 9,
   "metadata": {},
   "outputs": [
    {
     "data": {
      "text/plain": [
       "78895.5"
      ]
     },
     "execution_count": 9,
     "metadata": {},
     "output_type": "execute_result"
    }
   ],
   "source": [
    "#Average Total loss per year in plant B\n",
    "Expected(Bloss)*len(Bhist)/4"
   ]
  },
  {
   "cell_type": "code",
   "execution_count": 10,
   "metadata": {},
   "outputs": [
    {
     "data": {
      "text/plain": [
       "9.146099829385644"
      ]
     },
     "execution_count": 10,
     "metadata": {},
     "output_type": "execute_result"
    }
   ],
   "source": [
    "#Average Log loss per accident in plant A\n",
    "Expected(Alog_loss)"
   ]
  },
  {
   "cell_type": "code",
   "execution_count": 11,
   "metadata": {},
   "outputs": [
    {
     "data": {
      "text/plain": [
       "6.95909167211235"
      ]
     },
     "execution_count": 11,
     "metadata": {},
     "output_type": "execute_result"
    }
   ],
   "source": [
    "#Average Log loss per accident in plant B\n",
    "Expected(Blog_loss)"
   ]
  },
  {
   "cell_type": "code",
   "execution_count": 12,
   "metadata": {},
   "outputs": [
    {
     "data": {
      "text/plain": [
       "1.061510583198764"
      ]
     },
     "execution_count": 12,
     "metadata": {},
     "output_type": "execute_result"
    }
   ],
   "source": [
    "#Standard Deviation of Log loss per accident in plant A\n",
    "sd(Alog_loss)"
   ]
  },
  {
   "cell_type": "code",
   "execution_count": 13,
   "metadata": {},
   "outputs": [
    {
     "data": {
      "text/plain": [
       "1.133381024878168"
      ]
     },
     "execution_count": 13,
     "metadata": {},
     "output_type": "execute_result"
    }
   ],
   "source": [
    "#Standard Deviation of Log loss per accident in plant A\n",
    "sd(Blog_loss)"
   ]
  },
  {
   "cell_type": "code",
   "execution_count": 19,
   "metadata": {},
   "outputs": [
    {
     "data": {
      "text/plain": [
       "620126.4672907715"
      ]
     },
     "execution_count": 19,
     "metadata": {},
     "output_type": "execute_result"
    }
   ],
   "source": [
    "#Simulate once for one year of losses for plants A and B\n",
    "\n",
    "def simulate_once():\n",
    "        N = 1\n",
    "        max_time = 365 # 1 year\n",
    "        xm_a = 9.146099829385644  # mu of log loss A\n",
    "        sd_a = 1.061510583198764  # sd of log loss A\n",
    "        lamb_a = float(33)/365 # accidents per day\n",
    "\n",
    "        xm_b = 6.95909167211235  # mu of log loss B\n",
    "        sd_b = 1.133381024878168  # sd of log loss B\n",
    "        lamb_b = float(39)/365 # accidents per day\n",
    "\n",
    "        time = [0.0] * N\n",
    "\n",
    "        ta = 0  # timer for loss at plant A\n",
    "        tb = 0  # timer for loss at plant B\n",
    "        sima=0  # Loss aggregator for plant A\n",
    "        va=[]\n",
    "        simb=0  # Loss aggregator for plant A\n",
    "        vb=[]\n",
    "        hista=[]\n",
    "        histb=[]\n",
    "        \n",
    "        while True:\n",
    "            ta = ta + random.expovariate(lamb_a) # time between losses~exponential dist for plant A with lambda=lamb_a\n",
    "            if ta > max_time: break\n",
    "            \n",
    "            for k in range(N):\n",
    "                if time[k] <= ta:\n",
    "                    rva=(exp(random.gauss(xm_a,sd_a))) # Log Loss for A~N(xm_a,sd_a). exp() transforms log of Loss into Loss\n",
    "                    sima+=rva\n",
    "                    va.append(rva)\n",
    "                    hista.append(sima)\n",
    "                else:\n",
    "                    sima+=(0)\n",
    "                    va.append(0)\n",
    "                    hista.append(0)\n",
    "\n",
    "        while True:\n",
    "            tb = tb + random.expovariate(lamb_b) # time between losses~exponential dist for plant B with lambda=lamb_b\n",
    "            if tb > max_time: break\n",
    "            for k in range(N):\n",
    "                if time[k] <= tb:\n",
    "                    rvb=(exp(random.gauss(xm_b,sd_b))) # Log Loss for B~N(xm_b,sd_b). exp() transforms log of Loss into Loss\n",
    "                    simb+=rvb\n",
    "                    vb.append(rvb)\n",
    "                    histb.append(simb)\n",
    "                else:\n",
    "                    sima+=(0)\n",
    "                    va.append(0)\n",
    "                    hista.append(0)\n",
    "        total_hist=[]\n",
    "        th=list(map(sum,zip(hista,histb)))\n",
    "        for i in th:\n",
    "            total_hist.append(((th.index(i)),(i)))\n",
    "        \n",
    "        Canvas().plot(total_hist).save('Loss_Timeplot.png')\n",
    "        Canvas().hist(va).save('simulated_loss_Plant_A.png')\n",
    "        Canvas().hist(vb).save('simulated_loss_Plant_B.png')\n",
    "\n",
    "        return (sima+simb)\n",
    "\n",
    "\n",
    "\n",
    "\n",
    "simulate_once()\n"
   ]
  },
  {
   "cell_type": "code",
   "execution_count": 31,
   "metadata": {},
   "outputs": [
    {
     "name": "stdout",
     "output_type": "stream",
     "text": [
      "(588034.2067844407, 635101.8950825462, 686214.3608994514)\n"
     ]
    }
   ],
   "source": [
    "#Simulate many for one year of losses for plants A and B\n",
    "\n",
    "class LossSimulator(MCEngine):\n",
    "    def __init__(self, N):\n",
    "        self.N = N\n",
    "    def simulate_once(self):\n",
    "        N = self.N\n",
    "        max_time = 365 # 1 year\n",
    "        xm_a = 9.146099829385644  # mu of log loss A\n",
    "        sd_a = 1.061510583198764  # sd of log loss A\n",
    "        lamb_a = float(33)/365 # accidents per day\n",
    "        \n",
    "        xm_b = 6.95909167211235  # mu of log loss B\n",
    "        sd_b = 1.133381024878168  # sd of log loss B\n",
    "        lamb_b = float(39)/365 # accidents per day\n",
    "\n",
    "        time = [0.0] * N\n",
    "\n",
    "        ta = 0  # timer for loss at plant A\n",
    "        tb = 0  # timer for loss at plant B\n",
    "        sima=0  # Loss aggregator for plant A\n",
    "        simb=0  # Loss aggregator for plant A\n",
    "        \n",
    "        while True:\n",
    "            ta = ta + random.expovariate(lamb_a) # time between losses~exponential dist for plant A with lambda=lamb_a\n",
    "            if ta > max_time: break\n",
    "            for k in range(N):\n",
    "                if time[k] <= ta:\n",
    "                    sima+=(exp(random.gauss(xm_a,sd_a))) # Log Loss for A~N(xm_a,sd_a). exp() transforms log of Loss into Loss\n",
    "                else:\n",
    "                    sima+=(0)\n",
    "\n",
    "        while True:\n",
    "            tb = tb + random.expovariate(lamb_b) # time between losses~exponential dist for plant B with lambda=lamb_b\n",
    "            if tb > max_time: break\n",
    "            for k in range(N):\n",
    "                if time[k] <= tb:\n",
    "                    simb+=(exp(random.gauss(xm_b,sd_b)))  # Log Loss for B~N(xm_b,sd_b). exp() transforms log of Loss into Loss\n",
    "                else:\n",
    "                    simb+=(0)\n",
    "\n",
    "        return (sima+simb)/N\n",
    "\n",
    "sim=LossSimulator(5000)\n",
    "print sim.simulate_many(rp=.1)"
   ]
  },
  {
   "cell_type": "code",
   "execution_count": 32,
   "metadata": {},
   "outputs": [
    {
     "name": "stdout",
     "output_type": "stream",
     "text": [
      "773442.953903\n"
     ]
    }
   ],
   "source": [
    "# find 90% coverage of loss\n",
    "v = []\n",
    "\n",
    "for i in range(100):\n",
    "    v.append(sim.simulate_once())\n",
    "v.sort()\n",
    "print v[90]"
   ]
  }
 ],
 "metadata": {
  "kernelspec": {
   "display_name": "Python 2",
   "language": "python",
   "name": "python2"
  },
  "language_info": {
   "codemirror_mode": {
    "name": "ipython",
    "version": 2
   },
   "file_extension": ".py",
   "mimetype": "text/x-python",
   "name": "python",
   "nbconvert_exporter": "python",
   "pygments_lexer": "ipython2",
   "version": "2.7.14"
  }
 },
 "nbformat": 4,
 "nbformat_minor": 2
}
